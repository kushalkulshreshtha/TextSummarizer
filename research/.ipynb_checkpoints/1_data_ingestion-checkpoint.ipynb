{
 "cells": [
  {
   "cell_type": "code",
   "execution_count": 10,
   "id": "9c9a4e9e-2a06-4dfc-8c90-661c9ad95cd2",
   "metadata": {},
   "outputs": [
    {
     "name": "stdout",
     "output_type": "stream",
     "text": [
      "/home/kushal/TextSummarizer\n"
     ]
    }
   ],
   "source": [
    "!pwd"
   ]
  },
  {
   "cell_type": "code",
   "execution_count": 2,
   "id": "4097898c-e845-4c4f-84c5-5e2419e47a16",
   "metadata": {},
   "outputs": [],
   "source": [
    "import os\n",
    "os.chdir('..')"
   ]
  },
  {
   "cell_type": "code",
   "execution_count": 3,
   "id": "af322746-8bd3-4db2-be79-637d3bbc080b",
   "metadata": {},
   "outputs": [],
   "source": [
    "from dataclasses import dataclass\n",
    "from pathlib import Path\n",
    "\n",
    "@dataclass\n",
    "class DataIngestionConfig:\n",
    "    root_dir: Path\n",
    "    source_URL: str\n",
    "    local_data_file: Path\n",
    "    unzip_dir: Path"
   ]
  },
  {
   "cell_type": "code",
   "execution_count": 4,
   "id": "4c846520-a089-4c20-b2e8-57a52b6ac844",
   "metadata": {},
   "outputs": [],
   "source": [
    "from src.textSummarizer.constants import CONFIG_FILEPATH, PARAMS_FILEPATH\n",
    "from src.textSummarizer.utils.common import read_yaml, create_directories"
   ]
  },
  {
   "cell_type": "code",
   "execution_count": 29,
   "id": "d09ac0c6-91d8-40f4-9f74-2cec65b9649f",
   "metadata": {},
   "outputs": [],
   "source": [
    "class ConfigurationManager:\n",
    "    def __init__(self, config_path = CONFIG_FILEPATH, params_path = PARAMS_FILEPATH):\n",
    "        self.config = read_yaml(config_path)\n",
    "        self.params = read_yaml(params_path)\n",
    "        create_directories([self.config.artifacts_root])\n",
    "\n",
    "    def get_data_ingestion_config(self) -> DataIngestionConfig:\n",
    "        config = self.config.data_ingestion\n",
    "        create_directories([config.root_dir])\n",
    "        data_ingestion_config = DataIngestionConfig(root_dir = config.root_dir, \n",
    "                                                   source_URL = config.source_URL,\n",
    "                                                   local_data_file = config.local_data_file,\n",
    "                                                   unzip_dir = config.unzip_dir)\n",
    "        return data_ingestion_config\n",
    "\n",
    "    "
   ]
  },
  {
   "cell_type": "code",
   "execution_count": 30,
   "id": "353b56e1-834f-432b-8897-742f6cf48dd7",
   "metadata": {},
   "outputs": [],
   "source": [
    "import os\n",
    "from src.textSummarizer.logging import logger\n",
    "import urllib.request as request\n",
    "import zipfile\n"
   ]
  },
  {
   "cell_type": "code",
   "execution_count": 31,
   "id": "f8e99dc1-bdfb-4633-8ce9-a80689e80708",
   "metadata": {},
   "outputs": [],
   "source": [
    "class DataIngestion:\n",
    "    def __init__(self, config: DataIngestionConfig):\n",
    "        self.config = config\n",
    "\n",
    "    def download_file(self):\n",
    "        if not os.path.exists(self.config.local_data_file):\n",
    "            filename, headers= request.urlretrieve(url = self.config.source_URL, filename = self.config.local_data_file)\n",
    "            logger.info(\"File downloaded\")\n",
    "        else:\n",
    "            logger.info(\"File already exists\")\n",
    "\n",
    "    def extract_zip_file(self):\n",
    "        \"\"\"\n",
    "        zip_file_path: str\n",
    "        Extracts the zip file into the data directory\n",
    "        Function returns None\n",
    "        \"\"\"\n",
    "        unzip_path = self.config.unzip_dir\n",
    "        os.makedirs(unzip_path, exist_ok=True)\n",
    "        with zipfile.ZipFile(self.config.local_data_file, 'r') as zip_ref:\n",
    "            zip_ref.extractall(unzip_path)"
   ]
  },
  {
   "cell_type": "code",
   "execution_count": 32,
   "id": "06322ab3-3d12-4878-b66a-2cf68f33280b",
   "metadata": {},
   "outputs": [
    {
     "name": "stdout",
     "output_type": "stream",
     "text": [
      "[2025-02-15 15:40:18,234: INFO: common: yaml file: config/config.yml loaded successfully]\n",
      "[2025-02-15 15:40:18,234: INFO: common: yaml file: params.yml loaded successfully]\n",
      "[2025-02-15 15:40:18,235: INFO: common: Directory created at: {path}]\n"
     ]
    }
   ],
   "source": [
    "config = ConfigurationManager()"
   ]
  },
  {
   "cell_type": "code",
   "execution_count": 33,
   "id": "c8d652c5-eda5-49d6-8e29-545d9d43e182",
   "metadata": {},
   "outputs": [
    {
     "name": "stdout",
     "output_type": "stream",
     "text": [
      "[2025-02-15 15:40:18,593: INFO: common: Directory created at: {path}]\n"
     ]
    },
    {
     "ename": "TypeError",
     "evalue": "DataIngestionConfig.__init__() got an unexpected keyword argument 'source_URL'",
     "output_type": "error",
     "traceback": [
      "\u001b[0;31m---------------------------------------------------------------------------\u001b[0m",
      "\u001b[0;31mTypeError\u001b[0m                                 Traceback (most recent call last)",
      "Cell \u001b[0;32mIn[33], line 1\u001b[0m\n\u001b[0;32m----> 1\u001b[0m data_ingestion_config \u001b[38;5;241m=\u001b[39m \u001b[43mconfig\u001b[49m\u001b[38;5;241;43m.\u001b[39;49m\u001b[43mget_data_ingestion_config\u001b[49m\u001b[43m(\u001b[49m\u001b[43m)\u001b[49m\n",
      "Cell \u001b[0;32mIn[29], line 10\u001b[0m, in \u001b[0;36mConfigurationManager.get_data_ingestion_config\u001b[0;34m(self)\u001b[0m\n\u001b[1;32m      8\u001b[0m config \u001b[38;5;241m=\u001b[39m \u001b[38;5;28mself\u001b[39m\u001b[38;5;241m.\u001b[39mconfig\u001b[38;5;241m.\u001b[39mdata_ingestion\n\u001b[1;32m      9\u001b[0m create_directories([config\u001b[38;5;241m.\u001b[39mroot_dir])\n\u001b[0;32m---> 10\u001b[0m data_ingestion_config \u001b[38;5;241m=\u001b[39m \u001b[43mDataIngestionConfig\u001b[49m\u001b[43m(\u001b[49m\u001b[43mroot_dir\u001b[49m\u001b[43m \u001b[49m\u001b[38;5;241;43m=\u001b[39;49m\u001b[43m \u001b[49m\u001b[43mconfig\u001b[49m\u001b[38;5;241;43m.\u001b[39;49m\u001b[43mroot_dir\u001b[49m\u001b[43m,\u001b[49m\u001b[43m \u001b[49m\n\u001b[1;32m     11\u001b[0m \u001b[43m                                           \u001b[49m\u001b[43msource_URL\u001b[49m\u001b[43m \u001b[49m\u001b[38;5;241;43m=\u001b[39;49m\u001b[43m \u001b[49m\u001b[43mconfig\u001b[49m\u001b[38;5;241;43m.\u001b[39;49m\u001b[43msource_URL\u001b[49m\u001b[43m,\u001b[49m\n\u001b[1;32m     12\u001b[0m \u001b[43m                                           \u001b[49m\u001b[43mlocal_data_file\u001b[49m\u001b[43m \u001b[49m\u001b[38;5;241;43m=\u001b[39;49m\u001b[43m \u001b[49m\u001b[43mconfig\u001b[49m\u001b[38;5;241;43m.\u001b[39;49m\u001b[43mlocal_data_file\u001b[49m\u001b[43m,\u001b[49m\n\u001b[1;32m     13\u001b[0m \u001b[43m                                           \u001b[49m\u001b[43munzip_dir\u001b[49m\u001b[43m \u001b[49m\u001b[38;5;241;43m=\u001b[39;49m\u001b[43m \u001b[49m\u001b[43mconfig\u001b[49m\u001b[38;5;241;43m.\u001b[39;49m\u001b[43munzip_dir\u001b[49m\u001b[43m)\u001b[49m\n\u001b[1;32m     14\u001b[0m \u001b[38;5;28;01mreturn\u001b[39;00m data_ingestion_config\n",
      "\u001b[0;31mTypeError\u001b[0m: DataIngestionConfig.__init__() got an unexpected keyword argument 'source_URL'"
     ]
    }
   ],
   "source": [
    "data_ingestion_config = config.get_data_ingestion_config()"
   ]
  },
  {
   "cell_type": "code",
   "execution_count": null,
   "id": "32451811-d929-44f3-bcb2-039c7b3a0a76",
   "metadata": {},
   "outputs": [],
   "source": []
  }
 ],
 "metadata": {
  "kernelspec": {
   "display_name": "Python 3 (ipykernel)",
   "language": "python",
   "name": "python3"
  },
  "language_info": {
   "codemirror_mode": {
    "name": "ipython",
    "version": 3
   },
   "file_extension": ".py",
   "mimetype": "text/x-python",
   "name": "python",
   "nbconvert_exporter": "python",
   "pygments_lexer": "ipython3",
   "version": "3.12.3"
  }
 },
 "nbformat": 4,
 "nbformat_minor": 5
}
