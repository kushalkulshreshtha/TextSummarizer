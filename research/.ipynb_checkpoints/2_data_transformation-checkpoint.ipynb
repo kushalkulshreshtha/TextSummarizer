{
 "cells": [
  {
   "cell_type": "code",
   "execution_count": 3,
   "id": "12a12fd8-a74f-454e-9123-b0ceb041aeb3",
   "metadata": {},
   "outputs": [
    {
     "name": "stdout",
     "output_type": "stream",
     "text": [
      "/home/kushal/TextSummarizer\n"
     ]
    }
   ],
   "source": [
    "!pwd"
   ]
  },
  {
   "cell_type": "code",
   "execution_count": 2,
   "id": "7b55b0aa-fec4-426c-9148-f3193440f60e",
   "metadata": {},
   "outputs": [],
   "source": [
    "import os\n",
    "os.chdir('..')"
   ]
  },
  {
   "cell_type": "code",
   "execution_count": 4,
   "id": "c8d84d5b-11c9-4c67-a897-11acd7a1931b",
   "metadata": {},
   "outputs": [],
   "source": [
    "from dataclasses import dataclass\n",
    "from pathlib import Path"
   ]
  },
  {
   "cell_type": "code",
   "execution_count": 5,
   "id": "bb5668f9-c8dc-4e91-b098-1f82fbafdba4",
   "metadata": {},
   "outputs": [],
   "source": [
    "@dataclass\n",
    "class DataTransformationConfig:\n",
    "    root_dir: Path\n",
    "    data_path: Path\n",
    "    tokenizer_name: str"
   ]
  },
  {
   "cell_type": "code",
   "execution_count": 6,
   "id": "2811cee7-cf29-4124-967a-bd197b74b792",
   "metadata": {},
   "outputs": [],
   "source": [
    "from src.textSummarizer.constants import CONFIG_FILEPATH, PARAMS_FILEPATH\n",
    "from src.textSummarizer.utils.common import read_yaml, create_directories"
   ]
  },
  {
   "cell_type": "code",
   "execution_count": 7,
   "id": "8e83df56-8fde-4718-85d9-c74a181443f5",
   "metadata": {},
   "outputs": [],
   "source": [
    "class ConfigurationManager:\n",
    "    def __init__(self, config_path = CONFIG_FILEPATH, params_path = PARAMS_FILEPATH):\n",
    "        self.config = read_yaml(config_path)\n",
    "        self.params = read_yaml(params_path)\n",
    "        create_directories([self.config.artifacts_root])\n",
    "\n",
    "    # def get_data_ingestion_config(self) -> DataIngestionConfig:\n",
    "    #     config = self.config.data_ingestion\n",
    "    #     create_directories([config.root_dir])\n",
    "    #     data_ingestion_config = DataIngestionConfig(root_dir = config.root_dir, \n",
    "    #                                                source_URL = config.source_URL,\n",
    "    #                                                local_data_file = config.local_data_file,\n",
    "    #                                                unzip_dir = config.unzip_dir)\n",
    "    #     return data_ingestion_config\n",
    "\n",
    "    def get_data_transformation_config(self) -> DataTransformationConfig:\n",
    "        config = self.config.data_transformation\n",
    "        create_directories([config.root_dir])\n",
    "        data_tranformation_config = DataTransformationConfig(root_dir= config.root_dir,\n",
    "                                                            data_path=config.data_path,\n",
    "                                                            tokenizer_name=config.tokenizer_name)\n",
    "        return data_tranformation_config"
   ]
  },
  {
   "cell_type": "code",
   "execution_count": 8,
   "id": "deada16d-dc72-4dbe-9c79-30209678a79b",
   "metadata": {},
   "outputs": [
    {
     "name": "stderr",
     "output_type": "stream",
     "text": [
      "/home/kushal/TextSummarizer/summarizer/lib/python3.12/site-packages/tqdm/auto.py:21: TqdmWarning: IProgress not found. Please update jupyter and ipywidgets. See https://ipywidgets.readthedocs.io/en/stable/user_install.html\n",
      "  from .autonotebook import tqdm as notebook_tqdm\n"
     ]
    },
    {
     "name": "stdout",
     "output_type": "stream",
     "text": [
      "[2025-02-16 10:48:21,803: INFO: config: PyTorch version 2.6.0 available.]\n"
     ]
    }
   ],
   "source": [
    "import os\n",
    "from src.textSummarizer.logging import logger\n",
    "from transformers import AutoTokenizer\n",
    "from datasets import load_dataset, load_from_disk"
   ]
  },
  {
   "cell_type": "code",
   "execution_count": 13,
   "id": "bc6c11a4-9c24-4cc4-a3da-9968b9f8ecd8",
   "metadata": {},
   "outputs": [],
   "source": [
    "class DataTransformation:\n",
    "    def __init__(self, config: DataTransformationConfig):\n",
    "        self.config = config\n",
    "        self.tokenizer = AutoTokenizer.from_pretrained(config.tokenizer_name)\n",
    "\n",
    "    def convert_to_features(self, batch):\n",
    "    # print(batch)\n",
    "        input_tokens = self.tokenizer(batch['dialogue'], max_length=1024, truncation=True)\n",
    "        output_tokens = self.tokenizer(batch['summary'], max_length=128, truncation=True)\n",
    "    \n",
    "        return {\n",
    "            'input_ids' : input_tokens['input_ids'],\n",
    "            'attention_mask': input_tokens['attention_mask'],\n",
    "            'labels': output_tokens['input_ids']\n",
    "        }\n",
    "\n",
    "    def convert(self):\n",
    "        dataset_samsun = load_from_disk(self.config.data_path)\n",
    "        dataset_samsum_pt = dataset_samsun.map(self.convert_to_features, batched = True)\n",
    "        dataset_samsum_pt.save_to_disk(os.path.join(self.config.root_dir, 'samsun_dataset'))"
   ]
  },
  {
   "cell_type": "code",
   "execution_count": 14,
   "id": "50852df8-89af-44d0-9ca3-db0c64d3b12f",
   "metadata": {},
   "outputs": [
    {
     "name": "stdout",
     "output_type": "stream",
     "text": [
      "[2025-02-16 10:53:30,181: INFO: common: yaml file: config/config.yml loaded successfully]\n",
      "[2025-02-16 10:53:30,183: INFO: common: yaml file: params.yml loaded successfully]\n",
      "[2025-02-16 10:53:30,184: INFO: common: Directory created at: {path}]\n",
      "[2025-02-16 10:53:30,185: INFO: common: Directory created at: {path}]\n"
     ]
    }
   ],
   "source": []
  },
  {
   "cell_type": "code",
   "execution_count": 15,
   "id": "7451902d-96ae-4dbb-a11b-e56adeee9050",
   "metadata": {},
   "outputs": [],
   "source": []
  },
  {
   "cell_type": "code",
   "execution_count": 16,
   "id": "758c7158-1d21-4db5-9d55-b1c9f6527a56",
   "metadata": {},
   "outputs": [
    {
     "name": "stderr",
     "output_type": "stream",
     "text": [
      "Map: 100%|██████████████████████████████████████████████████████████████| 14732/14732 [00:00<00:00, 16370.37 examples/s]\n",
      "Map: 100%|██████████████████████████████████████████████████████████████████| 819/819 [00:00<00:00, 11391.48 examples/s]\n",
      "Map: 100%|██████████████████████████████████████████████████████████████████| 818/818 [00:00<00:00, 12177.04 examples/s]\n",
      "Saving the dataset (1/1 shards): 100%|█████████████████████████████████| 14732/14732 [00:00<00:00, 326236.44 examples/s]\n",
      "Saving the dataset (1/1 shards): 100%|█████████████████████████████████████| 819/819 [00:00<00:00, 144832.40 examples/s]\n",
      "Saving the dataset (1/1 shards): 100%|█████████████████████████████████████| 818/818 [00:00<00:00, 157267.17 examples/s]\n"
     ]
    }
   ],
   "source": [
    "config = ConfigurationManager()\n",
    "data_transformation_config = config.get_data_transformation_config()\n",
    "data_transformation = DataTransformation(config = data_transformation_config)\n",
    "data_transformation.convert()"
   ]
  },
  {
   "cell_type": "code",
   "execution_count": null,
   "id": "4a87d1b4-8738-438f-a29b-8adce5ca6d96",
   "metadata": {},
   "outputs": [],
   "source": []
  }
 ],
 "metadata": {
  "kernelspec": {
   "display_name": "Python 3 (ipykernel)",
   "language": "python",
   "name": "python3"
  },
  "language_info": {
   "codemirror_mode": {
    "name": "ipython",
    "version": 3
   },
   "file_extension": ".py",
   "mimetype": "text/x-python",
   "name": "python",
   "nbconvert_exporter": "python",
   "pygments_lexer": "ipython3",
   "version": "3.12.3"
  }
 },
 "nbformat": 4,
 "nbformat_minor": 5
}
