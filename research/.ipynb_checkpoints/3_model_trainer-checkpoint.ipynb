{
 "cells": [
  {
   "cell_type": "code",
   "execution_count": 1,
   "id": "e63fa56e-0dad-4b2f-8f55-072825e2ec33",
   "metadata": {},
   "outputs": [
    {
     "name": "stdout",
     "output_type": "stream",
     "text": [
      "/home/kushal/TextSummarizer/research\n"
     ]
    }
   ],
   "source": [
    "!pwd"
   ]
  },
  {
   "cell_type": "code",
   "execution_count": 2,
   "id": "0e791726-a11e-49c3-b04d-cc34492aee6d",
   "metadata": {},
   "outputs": [],
   "source": [
    "import os\n",
    "os.chdir('..')"
   ]
  },
  {
   "cell_type": "code",
   "execution_count": 3,
   "id": "3239a7bd-0565-480f-ac99-1c6304ffd841",
   "metadata": {},
   "outputs": [],
   "source": [
    "from dataclasses import dataclass\n",
    "from pathlib import Path"
   ]
  },
  {
   "cell_type": "code",
   "execution_count": 4,
   "id": "9df7e825-919c-4918-a13c-8d8a05207b78",
   "metadata": {},
   "outputs": [],
   "source": [
    "@dataclass\n",
    "class ModelTrainerConfig:\n",
    "    root_dir: Path\n",
    "    data_path: Path\n",
    "    model_ckpt: Path\n",
    "    num_train_epochs: int\n",
    "    warmup_steps: int\n",
    "    per_device_train_batch_size: int\n",
    "    per_device_eval_batch_size: int\n",
    "    weight_decay: float\n",
    "    logging_steps: int\n",
    "    eval_strategy: str\n",
    "    eval_steps: int\n",
    "    save_steps: float\n",
    "    gradient_accumulation_steps: int"
   ]
  },
  {
   "cell_type": "code",
   "execution_count": 5,
   "id": "bbcea210-aaef-40e5-a86d-9b97188a3d80",
   "metadata": {},
   "outputs": [],
   "source": [
    "from src.textSummarizer.constants import CONFIG_FILEPATH, PARAMS_FILEPATH\n",
    "from src.textSummarizer.utils.common import read_yaml, create_directories"
   ]
  },
  {
   "cell_type": "code",
   "execution_count": 6,
   "id": "b58f7ace-f771-4953-947f-cc51071eb949",
   "metadata": {},
   "outputs": [],
   "source": [
    "class ConfigurationManager:\n",
    "    def __init__(self, config_path = CONFIG_FILEPATH, params_path = PARAMS_FILEPATH):\n",
    "        self.config = read_yaml(config_path)\n",
    "        self.params = read_yaml(params_path)\n",
    "        create_directories([self.config.artifacts_root])\n",
    "\n",
    "    def get_model_trainer_config(self):\n",
    "        config = self.config.model_trainer\n",
    "        params = self.params.TrainingArguments\n",
    "        create_directories([config.root_dir])\n",
    "        \n",
    "        mtc = ModelTrainerConfig(root_dir = config.root_dir, data_path=config.data_path, model_ckpt = config.model_ckpt,\n",
    "                                num_train_epochs=params.num_train_epochs, warmup_steps = params.warmup_steps, \n",
    "                                 per_device_train_batch_size = params.per_device_train_batch_size,  \n",
    "                                 per_device_eval_batch_size = params.per_device_eval_batch_size,\n",
    "                                 weight_decay = params.weight_decay, logging_steps = params.logging_steps, eval_strategy = params.eval_strategy,\n",
    "                                 eval_steps = params.eval_steps, save_steps = float(params.save_steps), \n",
    "                                 gradient_accumulation_steps = params.gradient_accumulation_steps)\n",
    "        return mtc"
   ]
  },
  {
   "cell_type": "code",
   "execution_count": 7,
   "id": "b54c50e3-db39-4436-9ae9-f3d833a3aafe",
   "metadata": {},
   "outputs": [
    {
     "name": "stderr",
     "output_type": "stream",
     "text": [
      "/home/kushal/TextSummarizer/summarizer/lib/python3.12/site-packages/tqdm/auto.py:21: TqdmWarning: IProgress not found. Please update jupyter and ipywidgets. See https://ipywidgets.readthedocs.io/en/stable/user_install.html\n",
      "  from .autonotebook import tqdm as notebook_tqdm\n"
     ]
    },
    {
     "name": "stdout",
     "output_type": "stream",
     "text": [
      "[2025-02-16 18:32:14,847: INFO: config: PyTorch version 2.6.0 available.]\n"
     ]
    }
   ],
   "source": [
    "from transformers import pipeline, AutoModelForSeq2SeqLM, AutoTokenizer, DataCollatorForSeq2Seq, Trainer, TrainingArguments\n",
    "import torch\n",
    "from datasets import load_dataset, load_from_disk"
   ]
  },
  {
   "cell_type": "code",
   "execution_count": 8,
   "id": "8e18341b-5ade-4617-ae94-9d9c3eeb4255",
   "metadata": {},
   "outputs": [],
   "source": [
    "class ModelTrainer:\n",
    "    def __init__(self, config: ModelTrainerConfig):\n",
    "        self.config = config\n",
    "\n",
    "    def train(self):\n",
    "        config = self.config\n",
    "        device = 'cuda' if torch.cuda.is_available() else 'cpu'\n",
    "        tokenizer = AutoTokenizer.from_pretrained(config.model_ckpt)\n",
    "        model = AutoModelForSeq2SeqLM.from_pretrained(config.model_ckpt).to(device)\n",
    "        seq2seq_data_collator = DataCollatorForSeq2Seq(tokenizer, model=model)\n",
    "\n",
    "        #loading the data\n",
    "        dataset_samsun_pt = load_from_disk(config.data_path)\n",
    "        \n",
    "        trainer_args = TrainingArguments(output_dir = config.root_dir, num_train_epochs= config.num_train_epochs, warmup_steps=config.warmup_steps, \n",
    "                                 per_device_train_batch_size = config.per_device_train_batch_size, \n",
    "                                 per_device_eval_batch_size = config.per_device_eval_batch_size, weight_decay = config.weight_decay, \n",
    "                                 logging_steps = config.logging_steps, eval_strategy = config.eval_strategy, \n",
    "                                 eval_steps = config.eval_steps, save_steps = config.save_steps, \n",
    "                                 gradient_accumulation_steps = config.gradient_accumulation_steps)\n",
    "\n",
    "        # Deliberately training on 'test' data as it is smaller size\n",
    "        trainer = Trainer(model = model, args = trainer_args, processing_class = tokenizer, data_collator=seq2seq_data_collator, \n",
    "                          train_dataset=dataset_samsun_pt[\"test\"], eval_dataset=dataset_samsun_pt[\"validation\"])\n",
    "        \n",
    "        trainer.train()\n",
    "\n",
    "        model.save_pretrained(os.path.join(config.root_dir, \"pegasus-finetuned-model\"))\n",
    "        tokenizer.save_pretrained(os.path.join(config.root_dir, \"tokenizer\"))"
   ]
  },
  {
   "cell_type": "code",
   "execution_count": 13,
   "id": "87b04268-0028-470f-ae89-14c3859d3205",
   "metadata": {},
   "outputs": [
    {
     "name": "stdout",
     "output_type": "stream",
     "text": [
      "[2025-02-16 18:32:44,345: INFO: common: yaml file: config/config.yml loaded successfully]\n",
      "[2025-02-16 18:32:44,347: INFO: common: yaml file: params.yml loaded successfully]\n",
      "[2025-02-16 18:32:44,348: INFO: common: Directory created at: {path}]\n",
      "[2025-02-16 18:32:44,349: INFO: common: Directory created at: {path}]\n"
     ]
    },
    {
     "name": "stderr",
     "output_type": "stream",
     "text": [
      "Some weights of PegasusForConditionalGeneration were not initialized from the model checkpoint at google/pegasus-cnn_dailymail and are newly initialized: ['model.decoder.embed_positions.weight', 'model.encoder.embed_positions.weight']\n",
      "You should probably TRAIN this model on a down-stream task to be able to use it for predictions and inference.\n"
     ]
    },
    {
     "ename": "NameError",
     "evalue": "name 'dataset_samsum_pt' is not defined",
     "output_type": "error",
     "traceback": [
      "\u001b[0;31m---------------------------------------------------------------------------\u001b[0m",
      "\u001b[0;31mNameError\u001b[0m                                 Traceback (most recent call last)",
      "Cell \u001b[0;32mIn[13], line 4\u001b[0m\n\u001b[1;32m      2\u001b[0m model_trainer_config \u001b[38;5;241m=\u001b[39m config\u001b[38;5;241m.\u001b[39mget_model_trainer_config()\n\u001b[1;32m      3\u001b[0m model_trainer \u001b[38;5;241m=\u001b[39m ModelTrainer(model_trainer_config)\n\u001b[0;32m----> 4\u001b[0m \u001b[43mmodel_trainer\u001b[49m\u001b[38;5;241;43m.\u001b[39;49m\u001b[43mtrain\u001b[49m\u001b[43m(\u001b[49m\u001b[43m)\u001b[49m\n",
      "Cell \u001b[0;32mIn[8], line 24\u001b[0m, in \u001b[0;36mModelTrainer.train\u001b[0;34m(self)\u001b[0m\n\u001b[1;32m     15\u001b[0m trainer_args \u001b[38;5;241m=\u001b[39m TrainingArguments(output_dir \u001b[38;5;241m=\u001b[39m config\u001b[38;5;241m.\u001b[39mroot_dir, num_train_epochs\u001b[38;5;241m=\u001b[39m config\u001b[38;5;241m.\u001b[39mnum_train_epochs, warmup_steps\u001b[38;5;241m=\u001b[39mconfig\u001b[38;5;241m.\u001b[39mwarmup_steps, \n\u001b[1;32m     16\u001b[0m                          per_device_train_batch_size \u001b[38;5;241m=\u001b[39m config\u001b[38;5;241m.\u001b[39mper_device_train_batch_size, \n\u001b[1;32m     17\u001b[0m                          per_device_eval_batch_size \u001b[38;5;241m=\u001b[39m config\u001b[38;5;241m.\u001b[39mper_device_eval_batch_size, weight_decay \u001b[38;5;241m=\u001b[39m config\u001b[38;5;241m.\u001b[39mweight_decay, \n\u001b[1;32m     18\u001b[0m                          logging_steps \u001b[38;5;241m=\u001b[39m config\u001b[38;5;241m.\u001b[39mlogging_steps, eval_strategy \u001b[38;5;241m=\u001b[39m config\u001b[38;5;241m.\u001b[39meval_strategy, \n\u001b[1;32m     19\u001b[0m                          eval_steps \u001b[38;5;241m=\u001b[39m config\u001b[38;5;241m.\u001b[39meval_steps, save_steps \u001b[38;5;241m=\u001b[39m config\u001b[38;5;241m.\u001b[39msave_steps, \n\u001b[1;32m     20\u001b[0m                          gradient_accumulation_steps \u001b[38;5;241m=\u001b[39m config\u001b[38;5;241m.\u001b[39mgradient_accumulation_steps)\n\u001b[1;32m     22\u001b[0m \u001b[38;5;66;03m# Deliberately training on 'test' data as it is smaller size\u001b[39;00m\n\u001b[1;32m     23\u001b[0m trainer \u001b[38;5;241m=\u001b[39m Trainer(model \u001b[38;5;241m=\u001b[39m model, args \u001b[38;5;241m=\u001b[39m trainer_args, processing_class \u001b[38;5;241m=\u001b[39m tokenizer, data_collator\u001b[38;5;241m=\u001b[39mseq2seq_data_collator, \n\u001b[0;32m---> 24\u001b[0m                   train_dataset\u001b[38;5;241m=\u001b[39m\u001b[43mdataset_samsum_pt\u001b[49m[\u001b[38;5;124m\"\u001b[39m\u001b[38;5;124mtest\u001b[39m\u001b[38;5;124m\"\u001b[39m], eval_dataset\u001b[38;5;241m=\u001b[39mdataset_samsum_pt[\u001b[38;5;124m\"\u001b[39m\u001b[38;5;124mvalidation\u001b[39m\u001b[38;5;124m\"\u001b[39m])\n\u001b[1;32m     26\u001b[0m trainer\u001b[38;5;241m.\u001b[39mtrain()\n\u001b[1;32m     28\u001b[0m model\u001b[38;5;241m.\u001b[39msave_pretrained(os\u001b[38;5;241m.\u001b[39mpath\u001b[38;5;241m.\u001b[39mjoin(config\u001b[38;5;241m.\u001b[39mroot_dir, \u001b[38;5;124m\"\u001b[39m\u001b[38;5;124mpegasus-finetuned-model\u001b[39m\u001b[38;5;124m\"\u001b[39m))\n",
      "\u001b[0;31mNameError\u001b[0m: name 'dataset_samsum_pt' is not defined"
     ]
    }
   ],
   "source": [
    "config = ConfigurationManager()\n",
    "model_trainer_config = config.get_model_trainer_config()\n",
    "model_trainer = ModelTrainer(model_trainer_config)\n",
    "model_trainer.train()"
   ]
  },
  {
   "cell_type": "code",
   "execution_count": null,
   "id": "10cde574-6ed3-42eb-bc73-4b5844de9be5",
   "metadata": {},
   "outputs": [],
   "source": []
  }
 ],
 "metadata": {
  "kernelspec": {
   "display_name": "Python 3 (ipykernel)",
   "language": "python",
   "name": "python3"
  },
  "language_info": {
   "codemirror_mode": {
    "name": "ipython",
    "version": 3
   },
   "file_extension": ".py",
   "mimetype": "text/x-python",
   "name": "python",
   "nbconvert_exporter": "python",
   "pygments_lexer": "ipython3",
   "version": "3.12.3"
  }
 },
 "nbformat": 4,
 "nbformat_minor": 5
}
