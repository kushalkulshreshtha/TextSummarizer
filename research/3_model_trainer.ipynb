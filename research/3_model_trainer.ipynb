{
 "cells": [
  {
   "cell_type": "code",
   "execution_count": 1,
   "id": "e63fa56e-0dad-4b2f-8f55-072825e2ec33",
   "metadata": {},
   "outputs": [
    {
     "name": "stdout",
     "output_type": "stream",
     "text": [
      "/home/kushal/TextSummarizer/research\n"
     ]
    }
   ],
   "source": [
    "!pwd"
   ]
  },
  {
   "cell_type": "code",
   "execution_count": 2,
   "id": "0e791726-a11e-49c3-b04d-cc34492aee6d",
   "metadata": {},
   "outputs": [],
   "source": [
    "import os\n",
    "os.chdir('..')"
   ]
  },
  {
   "cell_type": "code",
   "execution_count": 3,
   "id": "3239a7bd-0565-480f-ac99-1c6304ffd841",
   "metadata": {},
   "outputs": [],
   "source": [
    "from dataclasses import dataclass\n",
    "from pathlib import Path"
   ]
  },
  {
   "cell_type": "code",
   "execution_count": 4,
   "id": "9df7e825-919c-4918-a13c-8d8a05207b78",
   "metadata": {},
   "outputs": [],
   "source": [
    "@dataclass\n",
    "class ModelTrainerConfig:\n",
    "    root_dir: Path\n",
    "    data_path: Path\n",
    "    model_ckpt: Path\n",
    "    num_train_epochs: int\n",
    "    warmup_steps: int\n",
    "    per_device_train_batch_size: int\n",
    "    per_device_eval_batch_size: int\n",
    "    weight_decay: float\n",
    "    logging_steps: int\n",
    "    eval_strategy: str\n",
    "    eval_steps: int\n",
    "    save_steps: float\n",
    "    gradient_accumulation_steps: int"
   ]
  },
  {
   "cell_type": "code",
   "execution_count": 5,
   "id": "bbcea210-aaef-40e5-a86d-9b97188a3d80",
   "metadata": {},
   "outputs": [],
   "source": [
    "from src.textSummarizer.constants import CONFIG_FILEPATH, PARAMS_FILEPATH\n",
    "from src.textSummarizer.utils.common import read_yaml, create_directories"
   ]
  },
  {
   "cell_type": "code",
   "execution_count": 6,
   "id": "b58f7ace-f771-4953-947f-cc51071eb949",
   "metadata": {},
   "outputs": [],
   "source": [
    "class ConfigurationManager:\n",
    "    def __init__(self, config_path = CONFIG_FILEPATH, params_path = PARAMS_FILEPATH):\n",
    "        self.config = read_yaml(config_path)\n",
    "        self.params = read_yaml(params_path)\n",
    "        create_directories([self.config.artifacts_root])\n",
    "\n",
    "    def get_model_trainer_config(self):\n",
    "        config = self.config.model_trainer\n",
    "        params = self.params.TrainingArguments\n",
    "        create_directories([config.root_dir])\n",
    "        \n",
    "        mtc = ModelTrainerConfig(root_dir = config.root_dir, data_path=config.data_path, model_ckpt = config.model_ckpt,\n",
    "                                num_train_epochs=params.num_train_epochs, warmup_steps = params.warmup_steps, \n",
    "                                 per_device_train_batch_size = params.per_device_train_batch_size,  \n",
    "                                 per_device_eval_batch_size = params.per_device_eval_batch_size,\n",
    "                                 weight_decay = params.weight_decay, logging_steps = params.logging_steps, eval_strategy = params.eval_strategy,\n",
    "                                 eval_steps = params.eval_steps, save_steps = float(params.save_steps), \n",
    "                                 gradient_accumulation_steps = params.gradient_accumulation_steps)\n",
    "        return mtc"
   ]
  },
  {
   "cell_type": "code",
   "execution_count": 7,
   "id": "b54c50e3-db39-4436-9ae9-f3d833a3aafe",
   "metadata": {},
   "outputs": [
    {
     "name": "stderr",
     "output_type": "stream",
     "text": [
      "/home/kushal/TextSummarizer/summarizer/lib/python3.12/site-packages/tqdm/auto.py:21: TqdmWarning: IProgress not found. Please update jupyter and ipywidgets. See https://ipywidgets.readthedocs.io/en/stable/user_install.html\n",
      "  from .autonotebook import tqdm as notebook_tqdm\n"
     ]
    },
    {
     "name": "stdout",
     "output_type": "stream",
     "text": [
      "[2025-02-16 18:32:14,847: INFO: config: PyTorch version 2.6.0 available.]\n"
     ]
    }
   ],
   "source": [
    "from transformers import pipeline, AutoModelForSeq2SeqLM, AutoTokenizer, DataCollatorForSeq2Seq, Trainer, TrainingArguments\n",
    "import torch\n",
    "from datasets import load_dataset, load_from_disk"
   ]
  },
  {
   "cell_type": "code",
   "execution_count": 14,
   "id": "8e18341b-5ade-4617-ae94-9d9c3eeb4255",
   "metadata": {},
   "outputs": [],
   "source": [
    "class ModelTrainer:\n",
    "    def __init__(self, config: ModelTrainerConfig):\n",
    "        self.config = config\n",
    "\n",
    "    def train(self):\n",
    "        config = self.config\n",
    "        device = 'cuda' if torch.cuda.is_available() else 'cpu'\n",
    "        tokenizer = AutoTokenizer.from_pretrained(config.model_ckpt)\n",
    "        model = AutoModelForSeq2SeqLM.from_pretrained(config.model_ckpt).to(device)\n",
    "        seq2seq_data_collator = DataCollatorForSeq2Seq(tokenizer, model=model)\n",
    "\n",
    "        #loading the data\n",
    "        dataset_samsun_pt = load_from_disk(config.data_path)\n",
    "        \n",
    "        trainer_args = TrainingArguments(output_dir = config.root_dir, num_train_epochs= config.num_train_epochs, warmup_steps=config.warmup_steps, \n",
    "                                 per_device_train_batch_size = config.per_device_train_batch_size, \n",
    "                                 per_device_eval_batch_size = config.per_device_eval_batch_size, weight_decay = config.weight_decay, \n",
    "                                 logging_steps = config.logging_steps, eval_strategy = config.eval_strategy, \n",
    "                                 eval_steps = config.eval_steps, save_steps = config.save_steps, \n",
    "                                 gradient_accumulation_steps = config.gradient_accumulation_steps)\n",
    "\n",
    "        # Deliberately training on 'test' data as it is smaller size\n",
    "        trainer = Trainer(model = model, args = trainer_args, processing_class = tokenizer, data_collator=seq2seq_data_collator, \n",
    "                          train_dataset=dataset_samsun_pt[\"test\"], eval_dataset=dataset_samsun_pt[\"validation\"])\n",
    "        \n",
    "        trainer.train()\n",
    "\n",
    "        model.save_pretrained(os.path.join(config.root_dir, \"pegasus-finetuned-model\"))\n",
    "        tokenizer.save_pretrained(os.path.join(config.root_dir, \"tokenizer\"))"
   ]
  },
  {
   "cell_type": "code",
   "execution_count": 15,
   "id": "87b04268-0028-470f-ae89-14c3859d3205",
   "metadata": {},
   "outputs": [
    {
     "name": "stdout",
     "output_type": "stream",
     "text": [
      "[2025-02-16 18:33:08,002: INFO: common: yaml file: config/config.yml loaded successfully]\n",
      "[2025-02-16 18:33:08,004: INFO: common: yaml file: params.yml loaded successfully]\n",
      "[2025-02-16 18:33:08,005: INFO: common: Directory created at: {path}]\n",
      "[2025-02-16 18:33:08,006: INFO: common: Directory created at: {path}]\n"
     ]
    },
    {
     "name": "stderr",
     "output_type": "stream",
     "text": [
      "Some weights of PegasusForConditionalGeneration were not initialized from the model checkpoint at google/pegasus-cnn_dailymail and are newly initialized: ['model.decoder.embed_positions.weight', 'model.encoder.embed_positions.weight']\n",
      "You should probably TRAIN this model on a down-stream task to be able to use it for predictions and inference.\n"
     ]
    },
    {
     "data": {
      "text/html": [
       "\n",
       "    <div>\n",
       "      \n",
       "      <progress value='51' max='51' style='width:300px; height:20px; vertical-align: middle;'></progress>\n",
       "      [51/51 15:47, Epoch 0/1]\n",
       "    </div>\n",
       "    <table border=\"1\" class=\"dataframe\">\n",
       "  <thead>\n",
       " <tr style=\"text-align: left;\">\n",
       "      <th>Step</th>\n",
       "      <th>Training Loss</th>\n",
       "      <th>Validation Loss</th>\n",
       "    </tr>\n",
       "  </thead>\n",
       "  <tbody>\n",
       "  </tbody>\n",
       "</table><p>"
      ],
      "text/plain": [
       "<IPython.core.display.HTML object>"
      ]
     },
     "metadata": {},
     "output_type": "display_data"
    },
    {
     "name": "stderr",
     "output_type": "stream",
     "text": [
      "/home/kushal/TextSummarizer/summarizer/lib/python3.12/site-packages/transformers/modeling_utils.py:2758: UserWarning: Moving the following attributes in the config to the generation config: {'max_length': 128, 'min_length': 32, 'num_beams': 8, 'length_penalty': 0.8}. You are seeing this warning because you've set generation parameters in the model config, as opposed to in the generation config.\n",
      "  warnings.warn(\n"
     ]
    }
   ],
   "source": [
    "config = ConfigurationManager()\n",
    "model_trainer_config = config.get_model_trainer_config()\n",
    "model_trainer = ModelTrainer(model_trainer_config)\n",
    "model_trainer.train()"
   ]
  },
  {
   "cell_type": "code",
   "execution_count": null,
   "id": "10cde574-6ed3-42eb-bc73-4b5844de9be5",
   "metadata": {},
   "outputs": [],
   "source": []
  }
 ],
 "metadata": {
  "kernelspec": {
   "display_name": "Python 3 (ipykernel)",
   "language": "python",
   "name": "python3"
  },
  "language_info": {
   "codemirror_mode": {
    "name": "ipython",
    "version": 3
   },
   "file_extension": ".py",
   "mimetype": "text/x-python",
   "name": "python",
   "nbconvert_exporter": "python",
   "pygments_lexer": "ipython3",
   "version": "3.12.3"
  }
 },
 "nbformat": 4,
 "nbformat_minor": 5
}
